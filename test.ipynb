{
 "cells": [
  {
   "cell_type": "code",
   "execution_count": 1,
   "metadata": {},
   "outputs": [],
   "source": [
    "from HW3_utils import FKHW3"
   ]
  },
  {
   "cell_type": "code",
   "execution_count": 2,
   "metadata": {},
   "outputs": [],
   "source": [
    "R,P,R_e,p_e = FKHW3([0,0,0])"
   ]
  },
  {
   "cell_type": "code",
   "execution_count": 3,
   "metadata": {},
   "outputs": [
    {
     "name": "stdout",
     "output_type": "stream",
     "text": [
      "R : [[[-1.0000000e+00 -1.0000000e+00 -1.0000000e+00  6.1232343e-17]\n",
      "  [-1.2246469e-16 -7.4987988e-33 -7.4987988e-33  6.1232343e-17]\n",
      "  [ 0.0000000e+00  1.2246469e-16  1.2246469e-16  1.0000000e+00]]\n",
      "\n",
      " [[ 1.2246469e-16  1.2246469e-16  1.2246469e-16  1.0000000e+00]\n",
      "  [-1.0000000e+00 -6.1232343e-17 -6.1232343e-17 -1.2246469e-16]\n",
      "  [ 0.0000000e+00  1.0000000e+00  1.0000000e+00 -6.1232343e-17]]\n",
      "\n",
      " [[ 0.0000000e+00  0.0000000e+00  0.0000000e+00  1.2246469e-16]\n",
      "  [ 0.0000000e+00  1.0000000e+00  1.0000000e+00  1.0000000e+00]\n",
      "  [ 1.0000000e+00  6.1232343e-17  6.1232343e-17 -6.1232343e-17]]]\n",
      "P : [[ 0.0000000e+00  0.0000000e+00  4.2500000e-01  8.9943000e-01]\n",
      " [ 0.0000000e+00  0.0000000e+00 -5.2047489e-17  1.0900000e-01]\n",
      " [ 8.9200000e-02  8.9200000e-02  8.9200000e-02 -3.8000000e-03]]\n",
      "R_e : [[ 6.1232343e-17  6.1232343e-17  1.0000000e+00]\n",
      " [ 1.0000000e+00 -1.2246469e-16 -6.1232343e-17]\n",
      " [ 1.2246469e-16  1.0000000e+00 -6.1232343e-17]]\n",
      "p_e : [ 0.89943  0.109   -0.0038 ]\n"
     ]
    }
   ],
   "source": [
    "print(f'R : {R}\\nP : {P}\\nR_e : {R_e}\\np_e : {p_e}')"
   ]
  },
  {
   "cell_type": "markdown",
   "metadata": {},
   "source": [
    "### ข้อ 1"
   ]
  },
  {
   "cell_type": "code",
   "execution_count": 4,
   "metadata": {},
   "outputs": [],
   "source": [
    "import numpy as np"
   ]
  },
  {
   "cell_type": "code",
   "execution_count": 5,
   "metadata": {},
   "outputs": [],
   "source": [
    "J_v = np.empty((3, 3))\n",
    "J_w = np.empty((3, 3))"
   ]
  },
  {
   "cell_type": "code",
   "execution_count": 6,
   "metadata": {},
   "outputs": [
    {
     "name": "stdout",
     "output_type": "stream",
     "text": [
      "------J_0------\n",
      "[-0.1128   1.79886  0.109  ]\n",
      "------R_0------\n",
      "[0. 0. 1.]\n",
      "------J_1------\n",
      "[-0.0968   0.89943 -0.79043]\n",
      "------R_1------\n",
      "[1.22464685e-16 1.00000000e+00 6.12323426e-17]\n",
      "------J_2------\n",
      "[-0.0968   0.89943 -0.36543]\n",
      "------R_2------\n",
      "[1.22464685e-16 1.00000000e+00 6.12323426e-17]\n"
     ]
    }
   ],
   "source": [
    "for i in range(3):\n",
    "    r = np.dot(R[:,:,i],[[0],[0],[1]])\n",
    "    d = p_e - P[:,i]\n",
    "    r = r.reshape(3,)\n",
    "\n",
    "    j_trans = np.cross(r,d) + np.dot(R_e,p_e)\n",
    "\n",
    "    print(f'------J_{i}------\\n{j_trans}')\n",
    "    print(f'------R_{i}------\\n{r}')\n",
    "\n",
    "    J_v[0][i] = j_trans[0]\n",
    "    J_v[1][i] = j_trans[1]\n",
    "    J_v[2][i] = j_trans[2]\n",
    "\n",
    "    J_w[0][i] = r[0]\n",
    "    J_w[1][i] = r[1]\n",
    "    J_w[2][i] = r[2]\n"
   ]
  },
  {
   "cell_type": "code",
   "execution_count": 7,
   "metadata": {},
   "outputs": [
    {
     "data": {
      "text/plain": [
       "array([[-1.12800000e-01, -9.68000000e-02, -9.68000000e-02],\n",
       "       [ 1.79886000e+00,  8.99430000e-01,  8.99430000e-01],\n",
       "       [ 1.09000000e-01, -7.90430000e-01, -3.65430000e-01],\n",
       "       [ 0.00000000e+00,  1.22464685e-16,  1.22464685e-16],\n",
       "       [ 0.00000000e+00,  1.00000000e+00,  1.00000000e+00],\n",
       "       [ 1.00000000e+00,  6.12323426e-17,  6.12323426e-17]])"
      ]
     },
     "execution_count": 7,
     "metadata": {},
     "output_type": "execute_result"
    }
   ],
   "source": [
    "J = np.concatenate((J_v, J_w), axis=0)\n",
    "J"
   ]
  },
  {
   "cell_type": "markdown",
   "metadata": {},
   "source": [
    "### ข้อ 2"
   ]
  },
  {
   "cell_type": "code",
   "execution_count": 8,
   "metadata": {},
   "outputs": [],
   "source": [
    "e = 0.001"
   ]
  },
  {
   "cell_type": "code",
   "execution_count": 9,
   "metadata": {},
   "outputs": [
    {
     "data": {
      "text/plain": [
       "array([[-0.1128 , -0.0968 , -0.0968 ],\n",
       "       [ 1.79886,  0.89943,  0.89943],\n",
       "       [ 0.109  , -0.79043, -0.36543]])"
      ]
     },
     "execution_count": 9,
     "metadata": {},
     "output_type": "execute_result"
    }
   ],
   "source": [
    "J_reduce = J[:3, :3]\n",
    "J_reduce"
   ]
  },
  {
   "cell_type": "code",
   "execution_count": 10,
   "metadata": {},
   "outputs": [
    {
     "data": {
      "text/plain": [
       "0.03088642620000005"
      ]
     },
     "execution_count": 10,
     "metadata": {},
     "output_type": "execute_result"
    }
   ],
   "source": [
    "m = np.linalg.det(J_reduce)\n",
    "m"
   ]
  },
  {
   "cell_type": "code",
   "execution_count": 11,
   "metadata": {},
   "outputs": [
    {
     "name": "stdout",
     "output_type": "stream",
     "text": [
      "Not Singularity\n"
     ]
    }
   ],
   "source": [
    "if m < e :\n",
    "    print('Singularity')\n",
    "else:\n",
    "    print('Not Singularity')"
   ]
  },
  {
   "cell_type": "markdown",
   "metadata": {},
   "source": [
    "### ข้อ 3"
   ]
  },
  {
   "cell_type": "code",
   "execution_count": 52,
   "metadata": {},
   "outputs": [],
   "source": [
    "w = np.array([1 ,2 ,3 ,4 ,5 ,6])"
   ]
  },
  {
   "cell_type": "code",
   "execution_count": 53,
   "metadata": {},
   "outputs": [],
   "source": [
    "w = w.reshape(6,1)"
   ]
  },
  {
   "cell_type": "code",
   "execution_count": 54,
   "metadata": {},
   "outputs": [],
   "source": [
    "w_f = w[:3, :]"
   ]
  },
  {
   "cell_type": "code",
   "execution_count": 55,
   "metadata": {},
   "outputs": [
    {
     "data": {
      "text/plain": [
       "array([[1],\n",
       "       [2],\n",
       "       [3]])"
      ]
     },
     "execution_count": 55,
     "metadata": {},
     "output_type": "execute_result"
    }
   ],
   "source": [
    "w_f"
   ]
  },
  {
   "cell_type": "code",
   "execution_count": 56,
   "metadata": {},
   "outputs": [],
   "source": [
    "t = np.dot(J_reduce,w_f)"
   ]
  },
  {
   "cell_type": "code",
   "execution_count": 57,
   "metadata": {},
   "outputs": [
    {
     "data": {
      "text/plain": [
       "array([[-0.5968 ],\n",
       "       [ 6.29601],\n",
       "       [-2.56815]])"
      ]
     },
     "execution_count": 57,
     "metadata": {},
     "output_type": "execute_result"
    }
   ],
   "source": [
    "t"
   ]
  }
 ],
 "metadata": {
  "kernelspec": {
   "display_name": "kinematic",
   "language": "python",
   "name": "python3"
  },
  "language_info": {
   "codemirror_mode": {
    "name": "ipython",
    "version": 3
   },
   "file_extension": ".py",
   "mimetype": "text/x-python",
   "name": "python",
   "nbconvert_exporter": "python",
   "pygments_lexer": "ipython3",
   "version": "3.12.4"
  }
 },
 "nbformat": 4,
 "nbformat_minor": 2
}
