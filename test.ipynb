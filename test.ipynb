{
 "cells": [
  {
   "cell_type": "markdown",
   "metadata": {},
   "source": [
    "# Test funtion code"
   ]
  },
  {
   "cell_type": "code",
   "execution_count": 1,
   "metadata": {},
   "outputs": [],
   "source": [
    "from HW3_utils import FKHW3"
   ]
  },
  {
   "cell_type": "code",
   "execution_count": 2,
   "metadata": {},
   "outputs": [],
   "source": [
    "R,P,R_e,p_e = FKHW3([0,0,0])"
   ]
  },
  {
   "cell_type": "code",
   "execution_count": 3,
   "metadata": {},
   "outputs": [
    {
     "name": "stdout",
     "output_type": "stream",
     "text": [
      "R : [[[-1.0000000e+00 -1.0000000e+00 -1.0000000e+00  6.1232343e-17]\n",
      "  [-1.2246469e-16 -7.4987988e-33 -7.4987988e-33  6.1232343e-17]\n",
      "  [ 0.0000000e+00  1.2246469e-16  1.2246469e-16  1.0000000e+00]]\n",
      "\n",
      " [[ 1.2246469e-16  1.2246469e-16  1.2246469e-16  1.0000000e+00]\n",
      "  [-1.0000000e+00 -6.1232343e-17 -6.1232343e-17 -1.2246469e-16]\n",
      "  [ 0.0000000e+00  1.0000000e+00  1.0000000e+00 -6.1232343e-17]]\n",
      "\n",
      " [[ 0.0000000e+00  0.0000000e+00  0.0000000e+00  1.2246469e-16]\n",
      "  [ 0.0000000e+00  1.0000000e+00  1.0000000e+00  1.0000000e+00]\n",
      "  [ 1.0000000e+00  6.1232343e-17  6.1232343e-17 -6.1232343e-17]]]\n",
      "P : [[ 0.0000000e+00  0.0000000e+00  4.2500000e-01  8.9943000e-01]\n",
      " [ 0.0000000e+00  0.0000000e+00 -5.2047489e-17  1.0900000e-01]\n",
      " [ 8.9200000e-02  8.9200000e-02  8.9200000e-02 -3.8000000e-03]]\n",
      "R_e : [[ 6.1232343e-17  6.1232343e-17  1.0000000e+00]\n",
      " [ 1.0000000e+00 -1.2246469e-16 -6.1232343e-17]\n",
      " [ 1.2246469e-16  1.0000000e+00 -6.1232343e-17]]\n",
      "p_e : [ 0.89943  0.109   -0.0038 ]\n"
     ]
    }
   ],
   "source": [
    "print(f'R : {R}\\nP : {P}\\nR_e : {R_e}\\np_e : {p_e}')"
   ]
  },
  {
   "cell_type": "markdown",
   "metadata": {},
   "source": [
    "## ข้อ 1"
   ]
  },
  {
   "cell_type": "code",
   "execution_count": 4,
   "metadata": {},
   "outputs": [],
   "source": [
    "import numpy as np"
   ]
  },
  {
   "cell_type": "code",
   "execution_count": 5,
   "metadata": {},
   "outputs": [],
   "source": [
    "J_v = np.empty((3, 3))\n",
    "J_w = np.empty((3, 3))"
   ]
  },
  {
   "cell_type": "code",
   "execution_count": 6,
   "metadata": {},
   "outputs": [
    {
     "name": "stdout",
     "output_type": "stream",
     "text": [
      "------J_0------\n",
      "[-0.109    0.89943  0.     ]\n",
      "------R_0------\n",
      "[0. 0. 1.]\n",
      "------J_1------\n",
      "[-9.30000000e-02  6.64634217e-17 -8.99430000e-01]\n",
      "------R_1------\n",
      "[1.22464685e-16 1.00000000e+00 6.12323426e-17]\n",
      "------J_2------\n",
      "[-9.3000000e-02  4.0439676e-17 -4.7443000e-01]\n",
      "------R_2------\n",
      "[1.22464685e-16 1.00000000e+00 6.12323426e-17]\n"
     ]
    }
   ],
   "source": [
    "for i in range(3):\n",
    "    r = np.dot(R[:,:,i],[[0],[0],[1]])\n",
    "    d = p_e - P[:,i]\n",
    "    r = r.reshape(3,)\n",
    "\n",
    "    j_trans = np.cross(r,d)\n",
    "\n",
    "    print(f'------J_{i}------\\n{j_trans}')\n",
    "    print(f'------R_{i}------\\n{r}')\n",
    "\n",
    "    J_v[0][i] = j_trans[0]\n",
    "    J_v[1][i] = j_trans[1]\n",
    "    J_v[2][i] = j_trans[2]\n",
    "\n",
    "    J_w[0][i] = r[0]\n",
    "    J_w[1][i] = r[1]\n",
    "    J_w[2][i] = r[2]\n"
   ]
  },
  {
   "cell_type": "code",
   "execution_count": 7,
   "metadata": {},
   "outputs": [
    {
     "data": {
      "text/plain": [
       "array([[-1.09000000e-01, -9.30000000e-02, -9.30000000e-02],\n",
       "       [ 8.99430000e-01,  6.64634217e-17,  4.04396760e-17],\n",
       "       [ 0.00000000e+00, -8.99430000e-01, -4.74430000e-01],\n",
       "       [ 0.00000000e+00,  1.22464685e-16,  1.22464685e-16],\n",
       "       [ 0.00000000e+00,  1.00000000e+00,  1.00000000e+00],\n",
       "       [ 1.00000000e+00,  6.12323426e-17,  6.12323426e-17]])"
      ]
     },
     "execution_count": 7,
     "metadata": {},
     "output_type": "execute_result"
    }
   ],
   "source": [
    "J = np.concatenate((J_v, J_w), axis=0)\n",
    "J"
   ]
  },
  {
   "cell_type": "markdown",
   "metadata": {},
   "source": [
    "## ข้อ 2"
   ]
  },
  {
   "cell_type": "code",
   "execution_count": 8,
   "metadata": {},
   "outputs": [],
   "source": [
    "e = 0.001"
   ]
  },
  {
   "cell_type": "code",
   "execution_count": 9,
   "metadata": {},
   "outputs": [
    {
     "data": {
      "text/plain": [
       "array([[-1.09000000e-01, -9.30000000e-02, -9.30000000e-02],\n",
       "       [ 8.99430000e-01,  6.64634217e-17,  4.04396760e-17],\n",
       "       [ 0.00000000e+00, -8.99430000e-01, -4.74430000e-01]])"
      ]
     },
     "execution_count": 9,
     "metadata": {},
     "output_type": "execute_result"
    }
   ],
   "source": [
    "J_reduce = J[:3, :3]\n",
    "J_reduce"
   ]
  },
  {
   "cell_type": "code",
   "execution_count": 10,
   "metadata": {},
   "outputs": [
    {
     "data": {
      "text/plain": [
       "0.03554997075000001"
      ]
     },
     "execution_count": 10,
     "metadata": {},
     "output_type": "execute_result"
    }
   ],
   "source": [
    "m = np.linalg.det(J_reduce)\n",
    "m"
   ]
  },
  {
   "cell_type": "code",
   "execution_count": 11,
   "metadata": {},
   "outputs": [
    {
     "name": "stdout",
     "output_type": "stream",
     "text": [
      "Not Singularity\n"
     ]
    }
   ],
   "source": [
    "if m < e :\n",
    "    print('Singularity')\n",
    "else:\n",
    "    print('Not Singularity')"
   ]
  },
  {
   "cell_type": "markdown",
   "metadata": {},
   "source": [
    "## ข้อ 3"
   ]
  },
  {
   "cell_type": "code",
   "execution_count": 12,
   "metadata": {},
   "outputs": [],
   "source": [
    "w = np.array([1 ,2 ,3 ,4 ,5 ,6])"
   ]
  },
  {
   "cell_type": "code",
   "execution_count": 13,
   "metadata": {},
   "outputs": [],
   "source": [
    "w = w.reshape(6,1)"
   ]
  },
  {
   "cell_type": "code",
   "execution_count": 14,
   "metadata": {},
   "outputs": [],
   "source": [
    "w_f = w[3:, :]"
   ]
  },
  {
   "cell_type": "code",
   "execution_count": 15,
   "metadata": {},
   "outputs": [
    {
     "data": {
      "text/plain": [
       "array([[4],\n",
       "       [5],\n",
       "       [6]])"
      ]
     },
     "execution_count": 15,
     "metadata": {},
     "output_type": "execute_result"
    }
   ],
   "source": [
    "w_f"
   ]
  },
  {
   "cell_type": "code",
   "execution_count": 16,
   "metadata": {},
   "outputs": [],
   "source": [
    "t = np.dot(J_reduce,w_f)"
   ]
  },
  {
   "cell_type": "code",
   "execution_count": 17,
   "metadata": {},
   "outputs": [
    {
     "data": {
      "text/plain": [
       "array([[-1.459  ],\n",
       "       [ 3.59772],\n",
       "       [-7.34373]])"
      ]
     },
     "execution_count": 17,
     "metadata": {},
     "output_type": "execute_result"
    }
   ],
   "source": [
    "t"
   ]
  },
  {
   "cell_type": "markdown",
   "metadata": {},
   "source": [
    "# Call funtion"
   ]
  },
  {
   "cell_type": "code",
   "execution_count": 18,
   "metadata": {},
   "outputs": [],
   "source": [
    "from FRA333_HW3_6512_6550 import endEffectorJacobianHW3 , checkSingularityHW3 , computeEffortHW3"
   ]
  },
  {
   "cell_type": "code",
   "execution_count": 19,
   "metadata": {},
   "outputs": [],
   "source": [
    "q = [1 ,2 ,3]\n",
    "w = [1 ,2 ,3 ,4 ,5 ,6]"
   ]
  },
  {
   "cell_type": "code",
   "execution_count": 20,
   "metadata": {},
   "outputs": [
    {
     "data": {
      "text/plain": [
       "array([[-9.83540720e-02,  2.27523742e-02,  2.31552949e-01],\n",
       "       [-6.63826432e-02,  3.54347240e-02,  3.60622359e-01],\n",
       "       [ 0.00000000e+00, -4.68954018e-02, -2.23757800e-01],\n",
       "       [ 0.00000000e+00, -8.41470957e-01, -8.41470957e-01],\n",
       "       [ 0.00000000e+00,  5.40302277e-01,  5.40302277e-01],\n",
       "       [ 1.00000000e+00,  6.12323426e-17,  6.12323426e-17]])"
      ]
     },
     "execution_count": 20,
     "metadata": {},
     "output_type": "execute_result"
    }
   ],
   "source": [
    "J_e = endEffectorJacobianHW3(q)\n",
    "J_e"
   ]
  },
  {
   "cell_type": "code",
   "execution_count": 21,
   "metadata": {},
   "outputs": [
    {
     "data": {
      "text/plain": [
       "True"
      ]
     },
     "execution_count": 21,
     "metadata": {},
     "output_type": "execute_result"
    }
   ],
   "source": [
    "flag = checkSingularityHW3(q)\n",
    "flag"
   ]
  },
  {
   "cell_type": "code",
   "execution_count": 22,
   "metadata": {},
   "outputs": [
    {
     "data": {
      "text/plain": [
       "array([[ 1.10966328],\n",
       "       [ 2.0753772 ],\n",
       "       [-1.57702381]])"
      ]
     },
     "execution_count": 22,
     "metadata": {},
     "output_type": "execute_result"
    }
   ],
   "source": [
    "tau = computeEffortHW3(q,w)\n",
    "tau"
   ]
  }
 ],
 "metadata": {
  "kernelspec": {
   "display_name": "kinematic",
   "language": "python",
   "name": "python3"
  },
  "language_info": {
   "codemirror_mode": {
    "name": "ipython",
    "version": 3
   },
   "file_extension": ".py",
   "mimetype": "text/x-python",
   "name": "python",
   "nbconvert_exporter": "python",
   "pygments_lexer": "ipython3",
   "version": "3.12.4"
  }
 },
 "nbformat": 4,
 "nbformat_minor": 2
}
